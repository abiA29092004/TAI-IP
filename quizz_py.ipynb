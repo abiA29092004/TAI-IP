{
  "nbformat": 4,
  "nbformat_minor": 0,
  "metadata": {
    "colab": {
      "provenance": [],
      "authorship_tag": "ABX9TyM/BDLjLkfWGcSSFMjYO84T",
      "include_colab_link": true
    },
    "kernelspec": {
      "name": "python3",
      "display_name": "Python 3"
    },
    "language_info": {
      "name": "python"
    }
  },
  "cells": [
    {
      "cell_type": "markdown",
      "metadata": {
        "id": "view-in-github",
        "colab_type": "text"
      },
      "source": [
        "<a href=\"https://colab.research.google.com/github/abiA29092004/TAI-IP/blob/main/quizz_py.ipynb\" target=\"_parent\"><img src=\"https://colab.research.google.com/assets/colab-badge.svg\" alt=\"Open In Colab\"/></a>"
      ]
    },
    {
      "cell_type": "code",
      "execution_count": null,
      "metadata": {
        "colab": {
          "base_uri": "https://localhost:8080/"
        },
        "id": "FrL8HRKK51gy",
        "outputId": "7497efe1-c233-4c5e-ce7e-86fc816452e0"
      },
      "outputs": [
        {
          "output_type": "stream",
          "name": "stdout",
          "text": [
            "----------------------\n",
            "How many elements are in the periodic table?: \n",
            "A. 116\n",
            "B. 117\n",
            "C. 118\n",
            "D. 119\n",
            "Enter (A, B, C, D): C\n",
            "CORRECT!\n",
            "----------------------\n",
            "Which animal lays the largest eggs?: \n",
            "A. Whale\n",
            "B. Crocodile\n",
            "C. Elephant\n",
            "D. Ostrich\n",
            "Enter (A, B, C, D): B\n",
            "INCORRECT!\n",
            "D is the correct answer\n",
            "----------------------\n",
            "What is the most abundant gas in Earth's atmosphere?: \n",
            "A. Nitrogen\n",
            "B. Oxygen\n",
            "C. Carbon-Dioxide\n",
            "D. Hydrogen\n",
            "Enter (A, B, C, D): A\n",
            "CORRECT!\n",
            "----------------------\n",
            "How many bones are in the human body?: \n",
            "A. 206\n",
            "B. 207\n",
            "C. 208\n",
            "D. 209\n",
            "Enter (A, B, C, D): A\n",
            "CORRECT!\n",
            "----------------------\n",
            "Which planet in the solar system is the hottest?: \n",
            "A. Mercury\n",
            "B. Venus\n",
            "C. Earth\n",
            "D. Mars\n",
            "Enter (A, B, C, D): B\n",
            "CORRECT!\n",
            "----------------------\n",
            "       RESULTS        \n",
            "----------------------\n",
            "answers: C D A A B \n",
            "guesses: C B A A B \n",
            "Your score is: 80%\n"
          ]
        }
      ],
      "source": [
        "questions = (\"How many elements are in the periodic table?: \",\n",
        "                       \"Which animal lays the largest eggs?: \",\n",
        "                       \"What is the most abundant gas in Earth's atmosphere?: \",\n",
        "                       \"How many bones are in the human body?: \",\n",
        "                       \"Which planet in the solar system is the hottest?: \")\n",
        "\n",
        "options = ((\"A. 116\", \"B. 117\", \"C. 118\", \"D. 119\"),\n",
        "                   (\"A. Whale\", \"B. Crocodile\", \"C. Elephant\", \"D. Ostrich\"),\n",
        "                   (\"A. Nitrogen\", \"B. Oxygen\", \"C. Carbon-Dioxide\", \"D. Hydrogen\"),\n",
        "                   (\"A. 206\", \"B. 207\", \"C. 208\", \"D. 209\"),\n",
        "                   (\"A. Mercury\", \"B. Venus\", \"C. Earth\", \"D. Mars\"))\n",
        "\n",
        "answers = (\"C\", \"D\", \"A\", \"A\", \"B\")\n",
        "guesses = []\n",
        "score = 0\n",
        "question_num = 0\n",
        "\n",
        "for question in questions:\n",
        "    print(\"----------------------\")\n",
        "    print(question)\n",
        "    for option in options[question_num]:\n",
        "        print(option)\n",
        "\n",
        "    guess = input(\"Enter (A, B, C, D): \").upper()\n",
        "    guesses.append(guess)\n",
        "    if guess == answers[question_num]:\n",
        "        score += 1\n",
        "        print(\"CORRECT!\")\n",
        "    else:\n",
        "        print(\"INCORRECT!\")\n",
        "        print(f\"{answers[question_num]} is the correct answer\")\n",
        "    question_num += 1\n",
        "\n",
        "print(\"----------------------\")\n",
        "print(\"       RESULTS        \")\n",
        "print(\"----------------------\")\n",
        "\n",
        "print(\"answers: \", end=\"\")\n",
        "for answer in answers:\n",
        "    print(answer, end=\" \")\n",
        "print()\n",
        "\n",
        "print(\"guesses: \", end=\"\")\n",
        "for guess in guesses:\n",
        "    print(guess, end=\" \")\n",
        "print()\n",
        "\n",
        "score = int(score / len(questions) * 100)\n",
        "print(f\"Your score is: {score}%\")"
      ]
    }
  ]
}