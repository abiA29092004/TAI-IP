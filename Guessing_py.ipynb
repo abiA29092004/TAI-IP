{
  "nbformat": 4,
  "nbformat_minor": 0,
  "metadata": {
    "colab": {
      "provenance": [],
      "authorship_tag": "ABX9TyP2uruGIh6c4gt+6LcC8pot",
      "include_colab_link": true
    },
    "kernelspec": {
      "name": "python3",
      "display_name": "Python 3"
    },
    "language_info": {
      "name": "python"
    }
  },
  "cells": [
    {
      "cell_type": "markdown",
      "metadata": {
        "id": "view-in-github",
        "colab_type": "text"
      },
      "source": [
        "<a href=\"https://colab.research.google.com/github/abiA29092004/TAI-IP/blob/main/Guessing_py.ipynb\" target=\"_parent\"><img src=\"https://colab.research.google.com/assets/colab-badge.svg\" alt=\"Open In Colab\"/></a>"
      ]
    },
    {
      "cell_type": "code",
      "execution_count": null,
      "metadata": {
        "id": "oMFVjwh_WvUV"
      },
      "outputs": [],
      "source": []
    },
    {
      "cell_type": "code",
      "execution_count": null,
      "metadata": {
        "id": "soIHXKIsQjoP",
        "outputId": "cc3823f3-5b93-46e4-efe7-edc97d207d9a",
        "colab": {
          "base_uri": "https://localhost:8080/"
        }
      },
      "outputs": [
        {
          "output_type": "stream",
          "name": "stdout",
          "text": [
            "Guess a number between 0 and 10:4\n",
            "Your guess is less than the random number-guess again\n",
            "Guess a number between 0 and 10:5\n",
            "Your guess is less than the random number-guess again\n",
            "Guess a number between 0 and 10:8\n",
            "Your guess is less than the random number-guess again\n",
            "Guess a number between 0 and 10:9\n",
            "You guessed the correct number\n"
          ]
        }
      ],
      "source": [
        "import random\n",
        "randAns=random.randint(0,10)\n",
        "ans=input('Guess a number between 0 and 10:')\n",
        "ans=int(ans)\n",
        "while ans!=randAns:\n",
        "  if ans<randAns:\n",
        "    print(\"Your guess is less than the random number-guess again\")\n",
        "    ans=input(\"Guess a number between 0 and 10:\")\n",
        "    ans=int(ans)\n",
        "  else:\n",
        "    print(\"Your guess is greater than the random number-guess again\")\n",
        "    ans=input(\"Guess a number between 0 and 10\")\n",
        "    ans=int(ans)\n",
        "print(\"You guessed the correct number\")\n",
        "\n"
      ]
    }
  ]
}