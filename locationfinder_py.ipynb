{
  "nbformat": 4,
  "nbformat_minor": 0,
  "metadata": {
    "colab": {
      "provenance": [],
      "authorship_tag": "ABX9TyPaeGwmZit5Hy3Jo1/94uPK",
      "include_colab_link": true
    },
    "kernelspec": {
      "name": "python3",
      "display_name": "Python 3"
    },
    "language_info": {
      "name": "python"
    }
  },
  "cells": [
    {
      "cell_type": "markdown",
      "metadata": {
        "id": "view-in-github",
        "colab_type": "text"
      },
      "source": [
        "<a href=\"https://colab.research.google.com/github/abiA29092004/TAI-IP/blob/main/locationfinder_py.ipynb\" target=\"_parent\"><img src=\"https://colab.research.google.com/assets/colab-badge.svg\" alt=\"Open In Colab\"/></a>"
      ]
    },
    {
      "cell_type": "code",
      "execution_count": null,
      "metadata": {
        "id": "G-Tr3A-OuK8c",
        "colab": {
          "base_uri": "https://localhost:8080/"
        },
        "outputId": "0f3a4143-116b-42a3-fd65-727308ad8569"
      },
      "outputs": [
        {
          "output_type": "stream",
          "name": "stdout",
          "text": [
            "{'address': 'Google Headquarters, 1600, Amphitheatre Parkway, Mountain View, Santa Clara County, California, 94043, United States', 'latitude': 37.4217636, 'longitude': -122.084614}\n"
          ]
        }
      ],
      "source": [
        "from geopy.geocoders import Nominatim\n",
        "geolocator = Nominatim(user_agent=\"location_finder\")\n",
        "\n",
        "def get_location(address):\n",
        "    location = geolocator.geocode(address)\n",
        "    if location:\n",
        "        return {\n",
        "            'address': location.address,\n",
        "            'latitude': location.latitude,\n",
        "            'longitude': location.longitude\n",
        "        }\n",
        "    else:\n",
        "        return {'error': 'Location not found'}\n",
        "if __name__ == \"__main__\":\n",
        "    address = \"1600 Amphitheatre Parkway, Mountain View, CA\"\n",
        "    location = get_location(address)\n",
        "    print(location)\n"
      ]
    }
  ]
}