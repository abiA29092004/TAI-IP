{
  "nbformat": 4,
  "nbformat_minor": 0,
  "metadata": {
    "colab": {
      "provenance": [],
      "authorship_tag": "ABX9TyPWr+0/eqIO6h1h06BW1sg6",
      "include_colab_link": true
    },
    "kernelspec": {
      "name": "python3",
      "display_name": "Python 3"
    },
    "language_info": {
      "name": "python"
    }
  },
  "cells": [
    {
      "cell_type": "markdown",
      "metadata": {
        "id": "view-in-github",
        "colab_type": "text"
      },
      "source": [
        "<a href=\"https://colab.research.google.com/github/abiA29092004/TAI-IP/blob/main/creditcard_py.ipynb\" target=\"_parent\"><img src=\"https://colab.research.google.com/assets/colab-badge.svg\" alt=\"Open In Colab\"/></a>"
      ]
    },
    {
      "cell_type": "code",
      "source": [
        "sum_odd_digits=0\n",
        "sum_even_digits=0\n",
        "total=0\n",
        "\n",
        "card_number= input(\"Enter a credit card #: \")\n",
        "card_number=card_number.replace(\"-\",\"\")\n",
        "card_number=card_number.replace(\" \",\"\")\n",
        "card_number=card_number[::-1]\n",
        "\n",
        "for x in card_number[::2]:\n",
        "  sum_odd_digits += int(x)\n",
        "\n",
        "for x in card_number[1::2]:\n",
        "  x = int(x) * 2\n",
        "  if x >= 10:\n",
        "    sum_even_digits += (1 + (x % 10))\n",
        "  else:\n",
        "    sum_even_digits += x\n",
        "total = sum_odd_digits + sum_even_digits\n",
        "\n",
        "if total % 10 == 0:\n",
        "  print(\"VALID\")\n",
        "else:\n",
        "  print(\"INVALID\")\n",
        "\n",
        "\n",
        "\n",
        "\n"
      ],
      "metadata": {
        "colab": {
          "base_uri": "https://localhost:8080/"
        },
        "id": "9PVysq9y4uSu",
        "outputId": "42c32292-5ace-4f1b-8fe6-2832a61c2b22"
      },
      "execution_count": null,
      "outputs": [
        {
          "output_type": "stream",
          "name": "stdout",
          "text": [
            "Enter a credit card #: 1234-5678-9012-3456\n",
            "INVALID\n"
          ]
        }
      ]
    }
  ]
}