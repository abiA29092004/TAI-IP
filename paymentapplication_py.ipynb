{
  "nbformat": 4,
  "nbformat_minor": 0,
  "metadata": {
    "colab": {
      "provenance": [],
      "authorship_tag": "ABX9TyM4EO6OgEkLZV40KAZdvB2U",
      "include_colab_link": true
    },
    "kernelspec": {
      "name": "python3",
      "display_name": "Python 3"
    },
    "language_info": {
      "name": "python"
    }
  },
  "cells": [
    {
      "cell_type": "markdown",
      "metadata": {
        "id": "view-in-github",
        "colab_type": "text"
      },
      "source": [
        "<a href=\"https://colab.research.google.com/github/abiA29092004/TAI-IP/blob/main/paymentapplication_py.ipynb\" target=\"_parent\"><img src=\"https://colab.research.google.com/assets/colab-badge.svg\" alt=\"Open In Colab\"/></a>"
      ]
    },
    {
      "cell_type": "code",
      "execution_count": null,
      "metadata": {
        "colab": {
          "base_uri": "https://localhost:8080/"
        },
        "id": "RtkViJ0EJDlV",
        "outputId": "722746d0-6be1-4dfc-be8f-7603c83b9943"
      },
      "outputs": [
        {
          "output_type": "stream",
          "name": "stdout",
          "text": [
            "Requirement already satisfied: stripe in /usr/local/lib/python3.10/dist-packages (9.8.0)\n",
            "Requirement already satisfied: requests>=2.20 in /usr/local/lib/python3.10/dist-packages (from stripe) (2.31.0)\n",
            "Requirement already satisfied: typing-extensions>=4.5.0 in /usr/local/lib/python3.10/dist-packages (from stripe) (4.11.0)\n",
            "Requirement already satisfied: charset-normalizer<4,>=2 in /usr/local/lib/python3.10/dist-packages (from requests>=2.20->stripe) (3.3.2)\n",
            "Requirement already satisfied: idna<4,>=2.5 in /usr/local/lib/python3.10/dist-packages (from requests>=2.20->stripe) (3.7)\n",
            "Requirement already satisfied: urllib3<3,>=1.21.1 in /usr/local/lib/python3.10/dist-packages (from requests>=2.20->stripe) (2.0.7)\n",
            "Requirement already satisfied: certifi>=2017.4.17 in /usr/local/lib/python3.10/dist-packages (from requests>=2.20->stripe) (2024.2.2)\n",
            "Payment Intent created successfully\n",
            "Payment Intent ID: pi_3PL2x02eZvKYlo2C1nyDjJ1S\n",
            "Client Secret: pi_3PL2x02eZvKYlo2C1nyDjJ1S_secret_RAeXKZqxrvTzUFIbdXKtsfUaQ\n"
          ]
        }
      ],
      "source": [
        "!pip install stripe\n",
        "\n",
        "import stripe\n",
        "\n",
        "stripe.api_key = 'sk_test_4eC39HqLyjWDarjtT1zdp7dc'\n",
        "\n",
        "def create_payment_intent(amount, currency='usd'):\n",
        "    try:\n",
        "        payment_intent = stripe.PaymentIntent.create(\n",
        "            amount=amount,\n",
        "            currency=currency,\n",
        "            payment_method_types=[\"card\"],\n",
        "        )\n",
        "        print(\"Payment Intent created successfully\")\n",
        "        return payment_intent\n",
        "    except stripe.error.StripeError as e:\n",
        "        print(f\"Error creating payment intent: {e.user_message}\")\n",
        "        return None\n",
        "\n",
        "def main():\n",
        "    amount = 5000\n",
        "    currency = 'usd'\n",
        "\n",
        "    payment_intent = create_payment_intent(amount, currency)\n",
        "\n",
        "    if payment_intent:\n",
        "        print(f\"Payment Intent ID: {payment_intent['id']}\")\n",
        "        print(f\"Client Secret: {payment_intent['client_secret']}\")\n",
        "    else:\n",
        "        print(\"Failed to create payment intent\")\n",
        "\n",
        "if __name__ == \"__main__\":\n",
        "    main()\n",
        "\n",
        "\n",
        "\n",
        "\n",
        "\n",
        "\n"
      ]
    }
  ]
}